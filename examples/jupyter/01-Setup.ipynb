{
 "cells": [
  {
   "cell_type": "markdown",
   "metadata": {},
   "source": [
    "## Setup\n",
    "Here is a quick overview how to install the environemnt.\n",
    "\n",
    "- First you need to [install Xeus/Cling](https://github.com/jupyter-xeus/xeus-cling).\n",
    "- Then you clone the project with git with the command ```git clone https://github.com/pschatzmann/Arduino-Emulator.git```\n",
    "\n",
    "- Finally you can build the project by executing the build bash script. You can overwrite the existing setup by adding the -f parameter"
   ]
  },
  {
   "cell_type": "code",
   "execution_count": 1,
   "metadata": {},
   "outputs": [
    {
     "name": "stdout",
     "output_type": "stream",
     "text": [
      "OK: 278 MiB in 60 packages\n",
      "fatal: destination path 'ArduinoCore-API' already exists and is not an empty directory.\n",
      "-- The CXX compiler identification is GNU 8.3.0\n",
      "-- Check for working CXX compiler: /usr/bin/c++\n",
      "-- Check for working CXX compiler: /usr/bin/c++ -- works\n",
      "-- Detecting CXX compiler ABI info\n",
      "-- Detecting CXX compiler ABI info - done\n",
      "-- Detecting CXX compile features\n",
      "-- Detecting CXX compile features - done\n",
      "-- Configuring done\n",
      "-- Generating done\n",
      "-- Build files have been written to: /home/xeus-cling/Arduino/Arduino-Emulator/build\n",
      "make: Entering directory '/home/xeus-cling/Arduino/Arduino-Emulator/build'\n",
      "make[1]: Entering directory '/home/xeus-cling/Arduino/Arduino-Emulator/build'\n",
      "make[2]: Entering directory '/home/xeus-cling/Arduino/Arduino-Emulator/build'\n",
      "make[2]: Leaving directory '/home/xeus-cling/Arduino/Arduino-Emulator/build'\n",
      "make[1]: Leaving directory '/home/xeus-cling/Arduino/Arduino-Emulator/build'\n",
      "make: Leaving directory '/home/xeus-cling/Arduino/Arduino-Emulator/build'\n",
      "make: Entering directory '/home/xeus-cling/Arduino/Arduino-Emulator/build'\n",
      "make[1]: Entering directory '/home/xeus-cling/Arduino/Arduino-Emulator/build'\n",
      "make[2]: Entering directory '/home/xeus-cling/Arduino/Arduino-Emulator/build'\n",
      "Scanning dependencies of target arduino_emulator\n",
      "make[2]: Leaving directory '/home/xeus-cling/Arduino/Arduino-Emulator/build'\n",
      "make[2]: Entering directory '/home/xeus-cling/Arduino/Arduino-Emulator/build'\n",
      "[  5%] Building CXX object CMakeFiles/arduino_emulator.dir/ArduinoCore-API/api/Common.cpp.o\n",
      "[ 11%] Building CXX object CMakeFiles/arduino_emulator.dir/ArduinoCore-API/api/IPAddress.cpp.o\n",
      "[ 17%] Building CXX object CMakeFiles/arduino_emulator.dir/ArduinoCore-API/api/PluggableUSB.cpp.o\n",
      "[ 23%] Building CXX object CMakeFiles/arduino_emulator.dir/ArduinoCore-API/api/Print.cpp.o\n",
      "[ 29%] Building CXX object CMakeFiles/arduino_emulator.dir/ArduinoCore-API/api/Stream.cpp.o\n",
      "[ 35%] Building CXX object CMakeFiles/arduino_emulator.dir/ArduinoCore-API/api/String.cpp.o\n",
      "[ 41%] Building CXX object CMakeFiles/arduino_emulator.dir/ArduinoCore-Linux/cores/arduino/Arduino.cpp.o\n",
      "[ 47%] Building CXX object CMakeFiles/arduino_emulator.dir/ArduinoCore-Linux/cores/arduino/HardwareGPIO.cpp.o\n",
      "[ 52%] Building CXX object CMakeFiles/arduino_emulator.dir/ArduinoCore-Linux/cores/arduino/HardwareI2CEx.cpp.o\n",
      "[ 58%] Building CXX object CMakeFiles/arduino_emulator.dir/ArduinoCore-Linux/cores/arduino/HardwareSPI.cpp.o\n",
      "[ 64%] Building CXX object CMakeFiles/arduino_emulator.dir/ArduinoCore-Linux/cores/arduino/SocketImpl.cpp.o\n",
      "[ 70%] Building CXX object CMakeFiles/arduino_emulator.dir/ArduinoCore-Linux/cores/arduino/Test.cpp.o\n",
      "[ 76%] Building CXX object CMakeFiles/arduino_emulator.dir/ArduinoCore-Linux/cores/arduino/Unsupported.cpp.o\n",
      "[ 82%] Building CXX object CMakeFiles/arduino_emulator.dir/ArduinoCore-Linux/cores/arduino/WiFiUdp.cpp.o\n",
      "[ 88%] Building CXX object CMakeFiles/arduino_emulator.dir/ArduinoCore-Linux/cores/arduino/itoa.cpp.o\n",
      "[ 94%] Building CXX object CMakeFiles/arduino_emulator.dir/ArduinoCore-Linux/cores/arduino/serialib.cpp.o\n",
      "[100%] Linking CXX shared library libarduino_emulator.so\n",
      "make[2]: Leaving directory '/home/xeus-cling/Arduino/Arduino-Emulator/build'\n",
      "[100%] Built target arduino_emulator\n",
      "make[1]: Leaving directory '/home/xeus-cling/Arduino/Arduino-Emulator/build'\n",
      "make: Leaving directory '/home/xeus-cling/Arduino/Arduino-Emulator/build'\n"
     ]
    }
   ],
   "source": [
    "! ./build.sh -f"
   ]
  },
  {
   "cell_type": "code",
   "execution_count": null,
   "metadata": {},
   "outputs": [],
   "source": []
  }
 ],
 "metadata": {
  "kernelspec": {
   "display_name": "C++17",
   "language": "C++17",
   "name": "xcpp17"
  },
  "language_info": {
   "codemirror_mode": "text/x-c++src",
   "file_extension": ".cpp",
   "mimetype": "text/x-c++src",
   "name": "c++",
   "version": "17"
  }
 },
 "nbformat": 4,
 "nbformat_minor": 4
}
