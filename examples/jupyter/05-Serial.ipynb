{
 "cells": [
  {
   "cell_type": "markdown",
   "metadata": {},
   "source": [
    "# The Different Implementations of Serial \n",
    "\n",
    "On an Arduino Device there is usually at least one Serial output port which is usually used for logging or you can use it to exchange information with other devices. \n",
    "\n",
    "Most Microcontrollers support more then one Serial so they have Serial1, Serial2 etc.\n",
    "\n",
    "Let's see how things are set up in the Emulator. But first we set up the environment:"
   ]
  },
  {
   "cell_type": "code",
   "execution_count": 3,
   "metadata": {},
   "outputs": [],
   "source": [
    "#pragma cling add_include_path(\"ArduinoCore-API/api\")\n",
    "#pragma cling add_include_path(\"ArduinoCore-Linux/cores/arduino\")\n",
    "#pragma cling add_library_path(\"build\") \n",
    "#pragma cling load(\"libarduino_emulator\") "
   ]
  },
  {
   "cell_type": "markdown",
   "metadata": {},
   "source": [
    "\n",
    "## Output to the Screen\n",
    "This is nothing new and we have seen this functionality already in the chapter about basic command. \n",
    "In the Arduino.cpp you can find the following line:\n",
    "\n",
    "```\n",
    "StdioDevice Serial;    // output to screen\n",
    "```\n",
    "\n",
    "This makes 'Serial' available which is mapped to stdio and the following is working:"
   ]
  },
  {
   "cell_type": "code",
   "execution_count": 4,
   "metadata": {},
   "outputs": [
    {
     "name": "stdout",
     "output_type": "stream",
     "text": [
      "hallo\n"
     ]
    }
   ],
   "source": [
    "#include \"Arduino.h\"\n",
    "\n",
    "Serial.println(\"hallo\");"
   ]
  },
  {
   "cell_type": "markdown",
   "metadata": {},
   "source": [
    "By the way, a call to begin() has no impact in this case, so it is not necessary.\n",
    "\n",
    "## Serial Interfaces\n",
    "But what if you want to connect a USB cable to your computer and communicate via the Serial Line. Arduino.cpp has the following entry for this:\n",
    "\n",
    "```\n",
    "SerialImpl Serial1(\"/dev/ttyACM0\");    // output to serial port\n",
    "```\n",
    "\n",
    "You will need to do the same steps like on an Arduino board. I am using [seriallib](https://github.com/imabot2/serialib) behind the scenes. So thanks a lot to __Fifi Lulu__ for making this available. \n"
   ]
  },
  {
   "cell_type": "code",
   "execution_count": 5,
   "metadata": {},
   "outputs": [],
   "source": [
    "Serial1.begin(9600);\n",
    "Serial1.println(\"thie is a test line\");\n",
    "Serial1.end();"
   ]
  },
  {
   "cell_type": "markdown",
   "metadata": {},
   "source": [
    "If you need to use another device you can just overwirte this or set up a new device variable."
   ]
  },
  {
   "cell_type": "code",
   "execution_count": 7,
   "metadata": {},
   "outputs": [],
   "source": [
    "SerialImpl Serial2(\"/dev/tty2\");    // output to serial port\n"
   ]
  },
  {
   "cell_type": "markdown",
   "metadata": {},
   "source": [
    "## Executing Serial Commands on a Target Device\n",
    "\n",
    "The last example is a little bit more involved: You can 'remote control' the Serial interface on a remote device by defining a communication stream together with the ```RemoteSerialImpl``` class.\n",
    "The following snipplet we already know from the chapter on Pins where we define a UDP connection to the ESP32:"
   ]
  },
  {
   "cell_type": "code",
   "execution_count": 11,
   "metadata": {},
   "outputs": [],
   "source": [
    "IPAddress targetIP(192,168,1,40);\n",
    "WiFiUDPStream udpStream(targetIP, 7000);\n"
   ]
  },
  {
   "cell_type": "markdown",
   "metadata": {},
   "source": [
    "Then we can use the following command to set up a variable that represents the Serial on the remote device. (Serial1 would just use 1 instead of 0) and then we can use it..."
   ]
  },
  {
   "cell_type": "code",
   "execution_count": 15,
   "metadata": {},
   "outputs": [],
   "source": [
    "RemoteSerialImpl RemoteSerial(udpStream, 0);\n",
    "RemoteSerial.begin(9600); // only necessary if sketch did not set up serial yet\n",
    "RemoteSerial.println(\"thie is a test line\");\n"
   ]
  },
  {
   "cell_type": "code",
   "execution_count": null,
   "metadata": {},
   "outputs": [],
   "source": []
  },
  {
   "cell_type": "code",
   "execution_count": null,
   "metadata": {},
   "outputs": [],
   "source": []
  }
 ],
 "metadata": {
  "kernelspec": {
   "display_name": "C++17",
   "language": "C++17",
   "name": "xcpp17"
  },
  "language_info": {
   "codemirror_mode": "text/x-c++src",
   "file_extension": ".cpp",
   "mimetype": "text/x-c++src",
   "name": "c++",
   "version": "17"
  }
 },
 "nbformat": 4,
 "nbformat_minor": 4
}
