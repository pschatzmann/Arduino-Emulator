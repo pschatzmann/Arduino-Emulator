{
 "cells": [
  {
   "cell_type": "markdown",
   "metadata": {},
   "source": [
    "## WIFI Networking\n",
    "I really like the ESP32 becase it comes with \"Batteries included\" as far as networking is concearned. \n",
    "So I wanted to be able to emulate this as well:\n",
    "\n",
    "First we define the emulator:"
   ]
  },
  {
   "cell_type": "code",
   "execution_count": 1,
   "metadata": {},
   "outputs": [],
   "source": [
    "#pragma cling add_include_path(\"ArduinoCore-API/api\")\n",
    "#pragma cling add_include_path(\"ArduinoCore-Linux/cores/arduino\")\n",
    "#pragma cling add_library_path(\"build\") \n",
    "#pragma cling load(\"libarduino_emulator\") "
   ]
  },
  {
   "cell_type": "markdown",
   "metadata": {},
   "source": [
    "## TCP/IP\n",
    "This is a standard ESP32 setup which is using WIFI:"
   ]
  },
  {
   "cell_type": "code",
   "execution_count": 2,
   "metadata": {},
   "outputs": [
    {
     "name": "stdout",
     "output_type": "stream",
     "text": [
      "\n",
      "\n",
      "Connecting to Network...\n",
      "WiFi connected\n",
      "IP address: 172.22.0.2\n"
     ]
    }
   ],
   "source": [
    "#include \"Arduino.h\"\n",
    "#include \"WiFi.h\"\n",
    "\n",
    "void setup() {\n",
    "    Serial.begin(115200);\n",
    "    Logger.setLogger(Serial, Logger.Warning);\n",
    "    delay(10);\n",
    "\n",
    "    Serial.println();\n",
    "    Serial.println();\n",
    "    Serial.print(\"Connecting to Network...\");\n",
    "\n",
    "    WiFi.begin(\"ssid not relevant\", \"password not relevant\");\n",
    "    while (WiFi.status() != WL_CONNECTED) {\n",
    "        delay(500);\n",
    "        Serial.print(\".\");\n",
    "    }\n",
    "\n",
    "    Serial.println();\n",
    "    Serial.println(\"WiFi connected\");\n",
    "    Serial.print(\"IP address: \");\n",
    "    Serial.println(WiFi.localIP());\n",
    "}\n",
    "\n",
    "setup();"
   ]
  },
  {
   "cell_type": "markdown",
   "metadata": {},
   "source": [
    "Now we can try out a simple Http request using the WiFiClient.\n",
    "First we connect to an address:"
   ]
  },
  {
   "cell_type": "code",
   "execution_count": 3,
   "metadata": {},
   "outputs": [
    {
     "name": "stdout",
     "output_type": "stream",
     "text": [
      "SocketImpl getsockopt-> -1\n"
     ]
    },
    {
     "data": {
      "text/plain": [
       "true"
      ]
     },
     "execution_count": 3,
     "metadata": {},
     "output_type": "execute_result"
    }
   ],
   "source": [
    "#include \"WiFiClient.h\"\n",
    "\n",
    "WiFiClient client;\n",
    "if (!client.connect(\"134.209.234.6\", 80)) {\n",
    "    Serial.println(\"connection failed\");\n",
    "}\n",
    "\n",
    "client.connected()==true"
   ]
  },
  {
   "cell_type": "code",
   "execution_count": 4,
   "metadata": {},
   "outputs": [
    {
     "name": "stdout",
     "output_type": "stream",
     "text": [
      "SocketImpl getsockopt-> -1\n"
     ]
    },
    {
     "data": {
      "text/plain": [
       "true"
      ]
     },
     "execution_count": 4,
     "metadata": {},
     "output_type": "execute_result"
    }
   ],
   "source": [
    "client.connected()==true"
   ]
  },
  {
   "cell_type": "markdown",
   "metadata": {},
   "source": [
    "We send the http request to the server:"
   ]
  },
  {
   "cell_type": "code",
   "execution_count": 5,
   "metadata": {},
   "outputs": [],
   "source": [
    "client.println(\"GET / HTTP/1.0\");\n",
    "client.println(\"Connection: close\");\n",
    "client.println();\n"
   ]
  },
  {
   "cell_type": "markdown",
   "metadata": {},
   "source": [
    "... and we process the result:"
   ]
  },
  {
   "cell_type": "code",
   "execution_count": 6,
   "metadata": {},
   "outputs": [
    {
     "name": "stdout",
     "output_type": "stream",
     "text": [
      "HTTP/1.1 301 Moved Permanently\n",
      "Server: nginx/1.17.6\n",
      "Date: Sat, 12 Dec 2020 16:07:17 GMT\n",
      "Content-Type: text/html\n",
      "Content-Length: 169\n",
      "Connection: close\n",
      "Location: https://software.pschatzmann.ch/\n",
      "\n",
      "==>headers received<==\n",
      "<html>\n",
      "<head><title>301 Moved Permanently</title></head>\n",
      "<body>\n",
      "<center><h1>301 Moved Permanently</h1></center>\n",
      "<hr><center>nginx/1.17.6</center>\n",
      "</body>\n",
      "</html>\n"
     ]
    }
   ],
   "source": [
    "while (client.connected()) {\n",
    "  String line = client.readStringUntil('\\n');\n",
    "  Serial.println(line);\n",
    "  if (line == \"\\r\") {\n",
    "    Serial.println(\"==>headers received<==\");\n",
    "    break;\n",
    "  }\n",
    "}\n",
    "// if there are incoming bytes available\n",
    "// from the server, read them and print them:\n",
    "while (client.available()) {\n",
    "  char c = client.read();\n",
    "  Serial.write(c);\n",
    "}\n",
    "\n"
   ]
  },
  {
   "cell_type": "markdown",
   "metadata": {},
   "source": [
    "Finally we close the connections:"
   ]
  },
  {
   "cell_type": "code",
   "execution_count": 7,
   "metadata": {},
   "outputs": [],
   "source": [
    "client.stop();"
   ]
  },
  {
   "cell_type": "markdown",
   "metadata": {},
   "source": [
    "## UDP\n",
    "\n",
    "UDP is supported as well:"
   ]
  },
  {
   "cell_type": "code",
   "execution_count": 8,
   "metadata": {},
   "outputs": [
    {
     "name": "stdout",
     "output_type": "stream",
     "text": [
      "Line has been sent\n",
      "Line has been sent\n",
      "Line has been sent\n",
      "Line has been sent\n",
      "Line has been sent\n",
      "Line has been sent\n",
      "Line has been sent\n",
      "Line has been sent\n",
      "Line has been sent\n",
      "Line has been sent\n",
      "Done\n"
     ]
    }
   ],
   "source": [
    "#include \"WiFiUdp.h\"\n",
    "\n",
    "WiFiUDP udp;\n",
    "const char * udpAddress = \"192.168.1.35\";\n",
    "const int udpPort = 7000;\n",
    "\n",
    "for (int j=0;j<10;j++){\n",
    "    udp.beginPacket(udpAddress,udpPort);\n",
    "    udp.println(\"test...\");\n",
    "    udp.endPacket();\n",
    "    Serial.println(\"Line has been sent\");\n",
    "    delay(1000);\n",
    "    \n",
    "}\n",
    "Serial.println(\"Done\");\n"
   ]
  },
  {
   "cell_type": "code",
   "execution_count": null,
   "metadata": {},
   "outputs": [],
   "source": []
  },
  {
   "cell_type": "code",
   "execution_count": null,
   "metadata": {},
   "outputs": [],
   "source": []
  }
 ],
 "metadata": {
  "kernelspec": {
   "display_name": "C++17",
   "language": "C++17",
   "name": "xcpp17"
  },
  "language_info": {
   "codemirror_mode": "text/x-c++src",
   "file_extension": ".cpp",
   "mimetype": "text/x-c++src",
   "name": "c++",
   "version": "17"
  }
 },
 "nbformat": 4,
 "nbformat_minor": 4
}