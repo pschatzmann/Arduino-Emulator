{
 "cells": [
  {
   "cell_type": "markdown",
   "metadata": {},
   "source": [
    "## Using Pins\n",
    "\n",
    "The ultimate goal is to be able to provide different implementations:\n",
    "- Using a Stream interface to communicate with a real Arduino Device (e.g. via udp)\n",
    "- Using some standard Linux userspace APIs for GPIO\n",
    "- Output to a file from where the data can be analysed\n",
    "- Using wiringPI to be run on a Raspberry PI\n",
    "\n",
    "So far I can show how this is working with the Stream interface. \n",
    "\n",
    "As in all examples we need to setup the environment first:"
   ]
  },
  {
   "cell_type": "code",
   "execution_count": 1,
   "metadata": {},
   "outputs": [],
   "source": [
    "#pragma cling add_include_path(\"ArduinoCore-API/api\")\n",
    "#pragma cling add_include_path(\"ArduinoCore-Linux/cores/arduino\")\n",
    "#pragma cling add_library_path(\"build\") \n",
    "#pragma cling load(\"libarduino_emulator\") "
   ]
  },
  {
   "cell_type": "markdown",
   "metadata": {},
   "source": [
    "Since different platforms are using differnt pin identifiers we need to include different __pins_arduino.h__ implementations. We can e.g. load the platform specific pin assignments for the ESP32:"
   ]
  },
  {
   "cell_type": "code",
   "execution_count": 13,
   "metadata": {},
   "outputs": [],
   "source": [
    "#pragma cling add_include_path(\"ArduinoCore-Linux/cores/esp32\")\n",
    "#include \"pins_arduino.h\""
   ]
  },
  {
   "cell_type": "markdown",
   "metadata": {},
   "source": [
    "...and we include the Arduino.h"
   ]
  },
  {
   "cell_type": "code",
   "execution_count": 3,
   "metadata": {},
   "outputs": [],
   "source": [
    "#include \"Arduino.h\""
   ]
  },
  {
   "cell_type": "code",
   "execution_count": 4,
   "metadata": {},
   "outputs": [
    {
     "name": "stdout",
     "output_type": "stream",
     "text": [
      "39"
     ]
    }
   ],
   "source": [
    "Serial.print(A3)"
   ]
  },
  {
   "cell_type": "markdown",
   "metadata": {},
   "source": [
    "In order to send out the pin commands via the UDP Stream interface you need to do some additional setup. Naturally you need to have a device which listens and handles the requests. Here is the related [Arduino sketch](https://github.com/pschatzmann/Arduino-Emulator-Target) that I was using on a ESP32."
   ]
  },
  {
   "cell_type": "code",
   "execution_count": 5,
   "metadata": {},
   "outputs": [],
   "source": [
    "IPAddress targetIP(192,168,1,40);\n",
    "WiFiUDPStream remoteStream(targetIP, 7000);\n",
    "HardwareSetup.begin(&remoteStream,  false);"
   ]
  },
  {
   "cell_type": "markdown",
   "metadata": {},
   "source": [
    "Finally you would find e.g. the following in an Arduino Sketch:"
   ]
  },
  {
   "cell_type": "code",
   "execution_count": 11,
   "metadata": {},
   "outputs": [
    {
     "name": "stdout",
     "output_type": "stream",
     "text": [
      "new cycle\n",
      "new cycle\n",
      "new cycle\n",
      "new cycle\n",
      "new cycle\n",
      "new cycle\n",
      "new cycle\n",
      "new cycle\n",
      "new cycle\n",
      "new cycle\n"
     ]
    }
   ],
   "source": [
    "pinMode(01, OUTPUT);   \n",
    "\n",
    "for (int j=0;j<10;j++){\n",
    "    Serial.println(\"new cycle\");\n",
    "    digitalWrite(01, HIGH);\n",
    "    delay(1000);\n",
    "    digitalWrite(01, LOW); \n",
    "    delay(1000);\n",
    "}"
   ]
  },
  {
   "cell_type": "markdown",
   "metadata": {},
   "source": [
    "And here is the corresponding output from the ESP32;\n",
    "```\n",
    "22:38:31.406 -> WiFi connected\n",
    "22:38:31.406 -> IP address: 192.168.1.40\n",
    "22:38:44.062 -> pinMode(1,0)\n",
    "22:38:44.100 -> digitalWrite(1,1)\n",
    "22:38:45.287 -> digitalWrite(1,0)\n",
    "22:38:46.338 -> digitalWrite(1,1)\n",
    "22:38:47.135 -> digitalWrite(1,0)\n",
    "22:38:48.053 -> digitalWrite(1,1)\n",
    "22:38:49.281 -> digitalWrite(1,0)\n",
    "22:38:50.199 -> digitalWrite(1,1)\n",
    "22:38:51.138 -> digitalWrite(1,0)\n",
    "22:38:52.076 -> digitalWrite(1,1)\n",
    "22:38:53.297 -> digitalWrite(1,0)\n",
    "22:38:54.227 -> digitalWrite(1,1)\n",
    "22:38:55.145 -> digitalWrite(1,0)\n",
    "22:38:56.041 -> digitalWrite(1,1)\n",
    "22:38:57.301 -> digitalWrite(1,0)\n",
    "22:38:58.197 -> digitalWrite(1,1)\n",
    "22:38:59.122 -> digitalWrite(1,0)\n",
    "22:39:00.053 -> digitalWrite(1,1)\n",
    "22:39:01.285 -> digitalWrite(1,0)\n",
    "22:39:02.180 -> digitalWrite(1,1)\n",
    "22:39:03.108 -> digitalWrite(1,0)\n",
    "```"
   ]
  },
  {
   "cell_type": "code",
   "execution_count": null,
   "metadata": {},
   "outputs": [],
   "source": []
  }
 ],
 "metadata": {
  "kernelspec": {
   "display_name": "C++17",
   "language": "C++17",
   "name": "xcpp17"
  },
  "language_info": {
   "codemirror_mode": "text/x-c++src",
   "file_extension": ".cpp",
   "mimetype": "text/x-c++src",
   "name": "c++",
   "version": "17"
  }
 },
 "nbformat": 4,
 "nbformat_minor": 4
}
